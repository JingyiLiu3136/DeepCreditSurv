{
 "cells": [
  {
   "cell_type": "code",
   "execution_count": 1,
   "id": "a3df7e37",
   "metadata": {},
   "outputs": [],
   "source": [
    "import os\n",
    "import pandas as pd\n",
    "path = \"D:\\DeepCreditSurv\"\n",
    "os.chdir(path)"
   ]
  },
  {
   "cell_type": "code",
   "execution_count": 2,
   "id": "bb44d245",
   "metadata": {},
   "outputs": [],
   "source": [
    "import DeepCreditSurv.models.DeepHazard.deep_hazard as dh"
   ]
  },
  {
   "cell_type": "code",
   "execution_count": 3,
   "id": "0ce5b874",
   "metadata": {},
   "outputs": [
    {
     "name": "stdout",
     "output_type": "stream",
     "text": [
      "Exception reporting mode: Verbose\n"
     ]
    }
   ],
   "source": [
    "%xmode Verbose"
   ]
  },
  {
   "cell_type": "code",
   "execution_count": 4,
   "id": "c8aafaf9",
   "metadata": {},
   "outputs": [],
   "source": [
    "dh_m1 = dh.deep_hazard(dataset='M1',file_path=\"D:\\DeepCreditSurv\\DeepCreditSurv\\datasets\\M1\\WideFormatMortgageAfterRemovingNull.csv\")"
   ]
  },
  {
   "cell_type": "code",
   "execution_count": 5,
   "id": "ba76f80d",
   "metadata": {},
   "outputs": [
    {
     "name": "stderr",
     "output_type": "stream",
     "text": [
      "% Completion: 100%|***********************************************|Loss:  -1.13\n"
     ]
    },
    {
     "name": "stdout",
     "output_type": "stream",
     "text": [
      "0.8594308067681614\n"
     ]
    }
   ],
   "source": [
    "deep_haz_lis_m1, surv_m1, c_index_m1 = dh_m1.build_model()\n",
    "print(c_index_m1)"
   ]
  },
  {
   "cell_type": "code",
   "execution_count": 6,
   "id": "bfa1fbf4",
   "metadata": {},
   "outputs": [],
   "source": [
    "dh_m2 = dh.deep_hazard(dataset='M2',file_path=\"D:\\DeepCreditSurv\\DeepCreditSurv\\datasets\\M2\")"
   ]
  },
  {
   "cell_type": "code",
   "execution_count": 7,
   "id": "a4f44ee9",
   "metadata": {},
   "outputs": [
    {
     "name": "stderr",
     "output_type": "stream",
     "text": [
      "% Completion: 100%|***********************************************|Loss:  -0.11\n"
     ]
    }
   ],
   "source": [
    "deep_haz_lis_m2, surv_m2, c_index_m2 = dh_m2.build_model()"
   ]
  },
  {
   "cell_type": "code",
   "execution_count": 8,
   "id": "eada5aa1",
   "metadata": {},
   "outputs": [
    {
     "data": {
      "text/plain": [
       "0.98021975909135"
      ]
     },
     "execution_count": 8,
     "metadata": {},
     "output_type": "execute_result"
    }
   ],
   "source": [
    "c_index_m2"
   ]
  },
  {
   "cell_type": "code",
   "execution_count": 3,
   "id": "b2d6d666",
   "metadata": {},
   "outputs": [],
   "source": [
    "dh_ppdai = dh.deep_hazard(dataset='ppdai',file_path=\"D:\\DeepCreditSurv\\DeepCreditSurv\\datasets\\ppdai\")"
   ]
  },
  {
   "cell_type": "code",
   "execution_count": 4,
   "id": "d2c71648",
   "metadata": {},
   "outputs": [
    {
     "name": "stderr",
     "output_type": "stream",
     "text": [
      "% Completion: 100%|***********************************************|Loss:  -0.11\n"
     ]
    },
    {
     "name": "stdout",
     "output_type": "stream",
     "text": [
      "Evaluation loss stopped decreased less than 1e-05. Early stopping at epoch 62.\n"
     ]
    }
   ],
   "source": [
    "deep_haz_lis_ppdai, surv_ppdai, c_index_ppdai = dh_ppdai.build_model()"
   ]
  },
  {
   "cell_type": "code",
   "execution_count": 5,
   "id": "3385cb66",
   "metadata": {},
   "outputs": [
    {
     "data": {
      "text/plain": [
       "0.75652918749302"
      ]
     },
     "execution_count": 5,
     "metadata": {},
     "output_type": "execute_result"
    }
   ],
   "source": [
    "c_index_ppdai"
   ]
  },
  {
   "cell_type": "code",
   "execution_count": 5,
   "id": "54381b90",
   "metadata": {},
   "outputs": [
    {
     "name": "stdout",
     "output_type": "stream",
     "text": [
      "Columns with less than 90% of the data included:\n",
      "['all_util', 'annual_inc_joint', 'desc', 'dti_joint', 'il_util', 'inq_fi', 'inq_last_12m', 'max_bal_bc', 'mths_since_last_delinq', 'mths_since_last_major_derog', 'mths_since_last_record', 'mths_since_rcnt_il', 'next_pymnt_d', 'open_acc_6m', 'open_il_12m', 'open_il_24m', 'open_il_6m', 'open_rv_12m', 'open_rv_24m', 'total_bal_il', 'total_cu_tl', 'verification_status_joint']\n",
      "Index(['id', 'member_id', 'loan_amnt', 'funded_amnt', 'funded_amnt_inv',\n",
      "       'term', 'int_rate', 'installment', 'grade', 'sub_grade', 'emp_title',\n",
      "       'emp_length', 'home_ownership', 'annual_inc', 'verification_status',\n",
      "       'issue_d', 'pymnt_plan', 'purpose', 'title', 'zip_code', 'addr_state',\n",
      "       'dti', 'delinq_2yrs', 'earliest_cr_line', 'inq_last_6mths', 'open_acc',\n",
      "       'pub_rec', 'revol_bal', 'revol_util', 'total_acc',\n",
      "       'initial_list_status', 'out_prncp', 'out_prncp_inv', 'total_pymnt',\n",
      "       'total_pymnt_inv', 'total_rec_prncp', 'total_rec_int',\n",
      "       'total_rec_late_fee', 'recoveries', 'collection_recovery_fee',\n",
      "       'last_pymnt_d', 'last_pymnt_amnt', 'last_credit_pull_d',\n",
      "       'collections_12_mths_ex_med', 'policy_code', 'application_type',\n",
      "       'acc_now_delinq', 'tot_coll_amt', 'tot_cur_bal', 'total_rev_hi_lim',\n",
      "       'default_ind'],\n",
      "      dtype='object')\n"
     ]
    }
   ],
   "source": [
    "dh_lc = dh.deep_hazard(dataset='LC',file_path=\"D:\\DeepCreditSurv\\DeepCreditSurv\\datasets\\LendingClub\\XYZCorp_LendingData.txt\")"
   ]
  },
  {
   "cell_type": "code",
   "execution_count": 6,
   "id": "6970ae28",
   "metadata": {},
   "outputs": [
    {
     "name": "stderr",
     "output_type": "stream",
     "text": [
      "% Completion: 100%|***********************************************|Loss:  -0.27\n"
     ]
    },
    {
     "name": "stdout",
     "output_type": "stream",
     "text": [
      "0.9512390789469731\n"
     ]
    }
   ],
   "source": [
    "deep_haz_lis_lc, surv_lc, c_index_lc = dh_lc.build_model()\n",
    "print(c_index_lc)"
   ]
  },
  {
   "cell_type": "code",
   "execution_count": null,
   "id": "72a81717",
   "metadata": {},
   "outputs": [],
   "source": []
  }
 ],
 "metadata": {
  "kernelspec": {
   "display_name": "Python 3 (ipykernel)",
   "language": "python",
   "name": "python3"
  },
  "language_info": {
   "codemirror_mode": {
    "name": "ipython",
    "version": 3
   },
   "file_extension": ".py",
   "mimetype": "text/x-python",
   "name": "python",
   "nbconvert_exporter": "python",
   "pygments_lexer": "ipython3",
   "version": "3.7.9"
  }
 },
 "nbformat": 4,
 "nbformat_minor": 5
}
