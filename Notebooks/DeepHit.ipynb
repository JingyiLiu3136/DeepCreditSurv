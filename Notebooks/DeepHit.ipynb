{
 "cells": [
  {
   "cell_type": "code",
   "execution_count": 1,
   "id": "d96c30d4-c9a6-432a-99bc-d1137b2e7252",
   "metadata": {},
   "outputs": [],
   "source": [
    "import os\n",
    "import pandas as pd\n",
    "path = \"D:\\DeepCreditSurv\"\n",
    "os.chdir(path)"
   ]
  },
  {
   "cell_type": "code",
   "execution_count": 2,
   "id": "3f79e81b-d3bd-4077-9c3a-5f54acb2cc66",
   "metadata": {},
   "outputs": [],
   "source": [
    "from DeepCreditSurv.models import deephit"
   ]
  },
  {
   "cell_type": "code",
   "execution_count": 4,
   "id": "0488bd98-d947-41b8-9f1f-995971e4679d",
   "metadata": {},
   "outputs": [],
   "source": [
    "dh_m1 = deephit.DeepHit(dataset='M1',file_path=\"D:\\DeepCreditSurv\\DeepCreditSurv\\datasets\\M1\\WideFormatMortgageAfterRemovingNull.csv\")"
   ]
  },
  {
   "cell_type": "code",
   "execution_count": 5,
   "id": "8f92b305-0d0a-4845-9070-cfa54695aa39",
   "metadata": {},
   "outputs": [
    {
     "data": {
      "image/png": "[encoded data removed]",
      "text/plain": [
       "<Figure size 432x288 with 1 Axes>"
      ]
     },
     "metadata": {
      "needs_background": "light"
     },
     "output_type": "display_data"
    }
   ],
   "source": [
    "best_lr = dh_m1.find_lr()"
   ]
  },
  {
   "cell_type": "code",
   "execution_count": 5,
   "id": "89fe02d6-1a8d-4215-af73-3c0ffec398f3",
   "metadata": {},
   "outputs": [
    {
     "data": {
      "text/plain": [
       "0.002154434690031894"
      ]
     },
     "execution_count": 5,
     "metadata": {},
     "output_type": "execute_result"
    }
   ],
   "source": [
    "best_lr"
   ]
  },
  {
   "cell_type": "code",
   "execution_count": 6,
   "id": "8784ea03-ded9-463c-8dae-05ddb1223cb3",
   "metadata": {},
   "outputs": [
    {
     "name": "stdout",
     "output_type": "stream",
     "text": [
      "0:\t[1s / 1s],\t\ttrain_loss: 0.3070,\tval_loss: 0.2492\n",
      "1:\t[0s / 1s],\t\ttrain_loss: 0.2621,\tval_loss: 0.2309\n",
      "2:\t[0s / 2s],\t\ttrain_loss: 0.2477,\tval_loss: 0.2229\n",
      "3:\t[0s / 3s],\t\ttrain_loss: 0.2425,\tval_loss: 0.2182\n",
      "4:\t[0s / 4s],\t\ttrain_loss: 0.2349,\tval_loss: 0.2147\n",
      "5:\t[0s / 5s],\t\ttrain_loss: 0.2325,\tval_loss: 0.2126\n",
      "6:\t[0s / 5s],\t\ttrain_loss: 0.2264,\tval_loss: 0.2087\n",
      "7:\t[0s / 6s],\t\ttrain_loss: 0.2251,\tval_loss: 0.2075\n",
      "8:\t[0s / 7s],\t\ttrain_loss: 0.2221,\tval_loss: 0.2055\n",
      "9:\t[0s / 8s],\t\ttrain_loss: 0.2191,\tval_loss: 0.2052\n",
      "10:\t[0s / 9s],\t\ttrain_loss: 0.2185,\tval_loss: 0.2016\n",
      "11:\t[0s / 9s],\t\ttrain_loss: 0.2146,\tval_loss: 0.2007\n",
      "12:\t[0s / 10s],\t\ttrain_loss: 0.2124,\tval_loss: 0.1976\n",
      "13:\t[0s / 11s],\t\ttrain_loss: 0.2130,\tval_loss: 0.2002\n",
      "14:\t[0s / 12s],\t\ttrain_loss: 0.2113,\tval_loss: 0.1956\n",
      "15:\t[0s / 13s],\t\ttrain_loss: 0.2098,\tval_loss: 0.1983\n",
      "16:\t[0s / 13s],\t\ttrain_loss: 0.2091,\tval_loss: 0.1968\n",
      "17:\t[0s / 14s],\t\ttrain_loss: 0.2056,\tval_loss: 0.1964\n",
      "18:\t[0s / 15s],\t\ttrain_loss: 0.2056,\tval_loss: 0.1948\n",
      "19:\t[0s / 16s],\t\ttrain_loss: 0.2046,\tval_loss: 0.1954\n",
      "20:\t[0s / 16s],\t\ttrain_loss: 0.2014,\tval_loss: 0.1919\n",
      "21:\t[0s / 17s],\t\ttrain_loss: 0.2012,\tval_loss: 0.1900\n",
      "22:\t[0s / 18s],\t\ttrain_loss: 0.1994,\tval_loss: 0.1918\n",
      "23:\t[0s / 19s],\t\ttrain_loss: 0.1970,\tval_loss: 0.1864\n",
      "24:\t[0s / 19s],\t\ttrain_loss: 0.1979,\tval_loss: 0.1895\n",
      "25:\t[0s / 20s],\t\ttrain_loss: 0.1973,\tval_loss: 0.1900\n",
      "26:\t[0s / 21s],\t\ttrain_loss: 0.1945,\tval_loss: 0.1846\n",
      "27:\t[0s / 22s],\t\ttrain_loss: 0.1948,\tval_loss: 0.1919\n",
      "28:\t[0s / 22s],\t\ttrain_loss: 0.1934,\tval_loss: 0.1830\n",
      "29:\t[0s / 23s],\t\ttrain_loss: 0.1927,\tval_loss: 0.1824\n",
      "30:\t[0s / 24s],\t\ttrain_loss: 0.1916,\tval_loss: 0.1851\n",
      "31:\t[0s / 25s],\t\ttrain_loss: 0.1894,\tval_loss: 0.1795\n",
      "32:\t[0s / 26s],\t\ttrain_loss: 0.1882,\tval_loss: 0.1830\n",
      "33:\t[0s / 26s],\t\ttrain_loss: 0.1908,\tval_loss: 0.1821\n",
      "34:\t[0s / 27s],\t\ttrain_loss: 0.1880,\tval_loss: 0.1810\n",
      "35:\t[0s / 28s],\t\ttrain_loss: 0.1863,\tval_loss: 0.1787\n",
      "36:\t[0s / 29s],\t\ttrain_loss: 0.1880,\tval_loss: 0.1809\n",
      "37:\t[0s / 29s],\t\ttrain_loss: 0.1854,\tval_loss: 0.1778\n",
      "38:\t[0s / 30s],\t\ttrain_loss: 0.1832,\tval_loss: 0.1742\n",
      "39:\t[0s / 31s],\t\ttrain_loss: 0.1834,\tval_loss: 0.1746\n",
      "40:\t[0s / 32s],\t\ttrain_loss: 0.1827,\tval_loss: 0.1749\n",
      "41:\t[0s / 32s],\t\ttrain_loss: 0.1811,\tval_loss: 0.1770\n",
      "42:\t[0s / 33s],\t\ttrain_loss: 0.1796,\tval_loss: 0.1747\n",
      "43:\t[0s / 34s],\t\ttrain_loss: 0.1806,\tval_loss: 0.1750\n",
      "44:\t[0s / 35s],\t\ttrain_loss: 0.1820,\tval_loss: 0.1785\n",
      "45:\t[0s / 36s],\t\ttrain_loss: 0.1799,\tval_loss: 0.1751\n",
      "46:\t[0s / 36s],\t\ttrain_loss: 0.1795,\tval_loss: 0.1747\n",
      "47:\t[0s / 37s],\t\ttrain_loss: 0.1797,\tval_loss: 0.1730\n",
      "48:\t[0s / 38s],\t\ttrain_loss: 0.1786,\tval_loss: 0.1744\n",
      "49:\t[0s / 39s],\t\ttrain_loss: 0.1764,\tval_loss: 0.1732\n",
      "50:\t[0s / 39s],\t\ttrain_loss: 0.1769,\tval_loss: 0.1725\n",
      "51:\t[0s / 40s],\t\ttrain_loss: 0.1769,\tval_loss: 0.1708\n",
      "52:\t[0s / 41s],\t\ttrain_loss: 0.1758,\tval_loss: 0.1746\n",
      "53:\t[0s / 42s],\t\ttrain_loss: 0.1764,\tval_loss: 0.1734\n",
      "54:\t[0s / 43s],\t\ttrain_loss: 0.1752,\tval_loss: 0.1709\n",
      "55:\t[0s / 44s],\t\ttrain_loss: 0.1740,\tval_loss: 0.1742\n",
      "56:\t[0s / 44s],\t\ttrain_loss: 0.1716,\tval_loss: 0.1720\n",
      "57:\t[0s / 45s],\t\ttrain_loss: 0.1730,\tval_loss: 0.1692\n",
      "58:\t[0s / 46s],\t\ttrain_loss: 0.1764,\tval_loss: 0.1725\n",
      "59:\t[0s / 47s],\t\ttrain_loss: 0.1730,\tval_loss: 0.1708\n",
      "60:\t[0s / 47s],\t\ttrain_loss: 0.1728,\tval_loss: 0.1724\n",
      "61:\t[0s / 48s],\t\ttrain_loss: 0.1712,\tval_loss: 0.1705\n",
      "62:\t[0s / 49s],\t\ttrain_loss: 0.1709,\tval_loss: 0.1696\n",
      "63:\t[0s / 50s],\t\ttrain_loss: 0.1696,\tval_loss: 0.1700\n",
      "64:\t[0s / 51s],\t\ttrain_loss: 0.1698,\tval_loss: 0.1699\n",
      "65:\t[0s / 52s],\t\ttrain_loss: 0.1712,\tval_loss: 0.1690\n",
      "66:\t[0s / 52s],\t\ttrain_loss: 0.1682,\tval_loss: 0.1689\n",
      "67:\t[0s / 53s],\t\ttrain_loss: 0.1677,\tval_loss: 0.1683\n",
      "68:\t[0s / 54s],\t\ttrain_loss: 0.1675,\tval_loss: 0.1710\n",
      "69:\t[0s / 55s],\t\ttrain_loss: 0.1681,\tval_loss: 0.1679\n",
      "70:\t[0s / 55s],\t\ttrain_loss: 0.1673,\tval_loss: 0.1693\n",
      "71:\t[0s / 56s],\t\ttrain_loss: 0.1672,\tval_loss: 0.1665\n",
      "72:\t[0s / 57s],\t\ttrain_loss: 0.1675,\tval_loss: 0.1680\n",
      "73:\t[0s / 58s],\t\ttrain_loss: 0.1661,\tval_loss: 0.1683\n",
      "74:\t[0s / 59s],\t\ttrain_loss: 0.1684,\tval_loss: 0.1697\n",
      "75:\t[0s / 59s],\t\ttrain_loss: 0.1667,\tval_loss: 0.1674\n",
      "76:\t[0s / 1m:0s],\t\ttrain_loss: 0.1649,\tval_loss: 0.1682\n",
      "77:\t[0s / 1m:1s],\t\ttrain_loss: 0.1631,\tval_loss: 0.1652\n",
      "78:\t[0s / 1m:2s],\t\ttrain_loss: 0.1649,\tval_loss: 0.1691\n",
      "79:\t[0s / 1m:2s],\t\ttrain_loss: 0.1638,\tval_loss: 0.1657\n",
      "80:\t[0s / 1m:3s],\t\ttrain_loss: 0.1624,\tval_loss: 0.1670\n",
      "81:\t[0s / 1m:4s],\t\ttrain_loss: 0.1624,\tval_loss: 0.1670\n",
      "82:\t[0s / 1m:5s],\t\ttrain_loss: 0.1633,\tval_loss: 0.1663\n",
      "83:\t[0s / 1m:5s],\t\ttrain_loss: 0.1628,\tval_loss: 0.1673\n",
      "84:\t[0s / 1m:6s],\t\ttrain_loss: 0.1629,\tval_loss: 0.1673\n",
      "85:\t[0s / 1m:7s],\t\ttrain_loss: 0.1605,\tval_loss: 0.1674\n",
      "86:\t[0s / 1m:8s],\t\ttrain_loss: 0.1606,\tval_loss: 0.1643\n",
      "87:\t[0s / 1m:9s],\t\ttrain_loss: 0.1619,\tval_loss: 0.1674\n",
      "88:\t[0s / 1m:9s],\t\ttrain_loss: 0.1624,\tval_loss: 0.1664\n",
      "89:\t[0s / 1m:10s],\t\ttrain_loss: 0.1598,\tval_loss: 0.1661\n",
      "90:\t[0s / 1m:11s],\t\ttrain_loss: 0.1652,\tval_loss: 0.1705\n",
      "91:\t[0s / 1m:12s],\t\ttrain_loss: 0.1627,\tval_loss: 0.1658\n",
      "92:\t[0s / 1m:13s],\t\ttrain_loss: 0.1610,\tval_loss: 0.1663\n",
      "93:\t[0s / 1m:13s],\t\ttrain_loss: 0.1590,\tval_loss: 0.1667\n",
      "94:\t[0s / 1m:14s],\t\ttrain_loss: 0.1611,\tval_loss: 0.1667\n",
      "95:\t[0s / 1m:15s],\t\ttrain_loss: 0.1586,\tval_loss: 0.1658\n",
      "96:\t[0s / 1m:16s],\t\ttrain_loss: 0.1587,\tval_loss: 0.1650\n"
     ]
    },
    {
     "data": {
      "image/png": "[encoded data removed]",
      "text/plain": [
       "<Figure size 432x288 with 1 Axes>"
      ]
     },
     "metadata": {
      "needs_background": "light"
     },
     "output_type": "display_data"
    }
   ],
   "source": [
    "cis = dh_m1.build_model(lr=0.001)"
   ]
  },
  {
   "cell_type": "code",
   "execution_count": 7,
   "id": "ca55a5fc-1064-4ca1-b679-bc3be4ce4c8a",
   "metadata": {},
   "outputs": [
    {
     "data": {
      "text/plain": [
       "0.9177140279865458"
      ]
     },
     "execution_count": 7,
     "metadata": {},
     "output_type": "execute_result"
    }
   ],
   "source": [
    "cis"
   ]
  },
  {
   "cell_type": "code",
   "execution_count": 8,
   "id": "0c500e30-04a3-4788-9209-817d57cba6b8",
   "metadata": {},
   "outputs": [
    {
     "name": "stdout",
     "output_type": "stream",
     "text": [
      "Index(['t.act.12m_0', 't.act.12m_1', 't.act.12m_2', 't.act.12m_3',\n",
      "       't.act.12m_4', 't.act.12m_5', 't.act.12m_6', 't.act.12m_7',\n",
      "       't.act.12m_8', 't.act.12m_9', 't.act.12m_10', 't.act.12m_11',\n",
      "       't.act.12m_12', 't.del.30d.12m_0', 't.del.30d.12m_1', 't.del.30d.12m_2',\n",
      "       't.del.30d.12m_3', 't.del.30d.12m_4', 't.del.30d.12m_5',\n",
      "       't.del.30d.12m_6', 't.del.30d.12m_7', 't.del.30d.12m_8',\n",
      "       't.del.30d.12m_9', 't.del.30d.12m_10', 't.del.30d.12m_11',\n",
      "       't.del.30d.12m_12', 't.del.60d.12m_0', 't.del.60d.12m_1',\n",
      "       't.del.60d.12m_2', 't.del.60d.12m_3', 't.del.60d.12m_4',\n",
      "       't.del.60d.12m_5', 't.del.60d.12m_6', 't.del.60d.12m_7',\n",
      "       't.del.60d.12m_8', 't.del.60d.12m_9', 't.del.60d.12m_10',\n",
      "       't.del.60d.12m_11', 't.del.60d.12m_12'],\n",
      "      dtype='object')\n"
     ]
    }
   ],
   "source": [
    "dh_m2 = deephit.DeepHit(dataset='M2',file_path=\"D:\\DeepCreditSurv\\DeepCreditSurv\\datasets\\M2\")"
   ]
  },
  {
   "cell_type": "code",
   "execution_count": 9,
   "id": "986d2d5c-3f5d-4c70-85bd-04be24c270fb",
   "metadata": {},
   "outputs": [
    {
     "data": {
      "image/png": "[encoded data removed]",
      "text/plain": [
       "<Figure size 432x288 with 1 Axes>"
      ]
     },
     "metadata": {
      "needs_background": "light"
     },
     "output_type": "display_data"
    }
   ],
   "source": [
    "best_lr = dh_m2.find_lr()"
   ]
  },
  {
   "cell_type": "code",
   "execution_count": 10,
   "id": "de5804f3-4c21-4142-a838-860fab7a534c",
   "metadata": {},
   "outputs": [
    {
     "data": {
      "text/plain": [
       "0.004534878508128605"
      ]
     },
     "execution_count": 10,
     "metadata": {},
     "output_type": "execute_result"
    }
   ],
   "source": [
    "best_lr"
   ]
  },
  {
   "cell_type": "code",
   "execution_count": 11,
   "id": "ec0a12d1-75b7-4ac3-aa3f-8457b1795d04",
   "metadata": {
    "tags": []
   },
   "outputs": [
    {
     "name": "stdout",
     "output_type": "stream",
     "text": [
      "0:\t[0s / 0s],\t\ttrain_loss: 0.1145,\tval_loss: 0.1243\n",
      "1:\t[0s / 0s],\t\ttrain_loss: 0.0989,\tval_loss: 0.1140\n",
      "2:\t[0s / 0s],\t\ttrain_loss: 0.0887,\tval_loss: 0.1032\n",
      "3:\t[0s / 0s],\t\ttrain_loss: 0.0802,\tval_loss: 0.0940\n",
      "4:\t[0s / 0s],\t\ttrain_loss: 0.0677,\tval_loss: 0.0866\n",
      "5:\t[0s / 0s],\t\ttrain_loss: 0.0587,\tval_loss: 0.0807\n",
      "6:\t[0s / 0s],\t\ttrain_loss: 0.0518,\tval_loss: 0.0762\n",
      "7:\t[0s / 0s],\t\ttrain_loss: 0.0455,\tval_loss: 0.0730\n",
      "8:\t[0s / 0s],\t\ttrain_loss: 0.0402,\tval_loss: 0.0711\n",
      "9:\t[0s / 0s],\t\ttrain_loss: 0.0345,\tval_loss: 0.0696\n",
      "10:\t[0s / 0s],\t\ttrain_loss: 0.0301,\tval_loss: 0.0687\n",
      "11:\t[0s / 0s],\t\ttrain_loss: 0.0290,\tval_loss: 0.0686\n",
      "12:\t[0s / 0s],\t\ttrain_loss: 0.0249,\tval_loss: 0.0695\n",
      "13:\t[0s / 0s],\t\ttrain_loss: 0.0221,\tval_loss: 0.0703\n",
      "14:\t[0s / 0s],\t\ttrain_loss: 0.0200,\tval_loss: 0.0686\n",
      "15:\t[0s / 0s],\t\ttrain_loss: 0.0173,\tval_loss: 0.0677\n",
      "16:\t[0s / 0s],\t\ttrain_loss: 0.0160,\tval_loss: 0.0657\n",
      "17:\t[0s / 0s],\t\ttrain_loss: 0.0128,\tval_loss: 0.0638\n",
      "18:\t[0s / 0s],\t\ttrain_loss: 0.0105,\tval_loss: 0.0613\n",
      "19:\t[0s / 0s],\t\ttrain_loss: 0.0088,\tval_loss: 0.0602\n",
      "20:\t[0s / 0s],\t\ttrain_loss: 0.0063,\tval_loss: 0.0610\n",
      "21:\t[0s / 0s],\t\ttrain_loss: 0.0052,\tval_loss: 0.0626\n",
      "22:\t[0s / 0s],\t\ttrain_loss: 0.0054,\tval_loss: 0.0660\n",
      "23:\t[0s / 0s],\t\ttrain_loss: 0.0039,\tval_loss: 0.0693\n",
      "24:\t[0s / 1s],\t\ttrain_loss: 0.0038,\tval_loss: 0.0694\n",
      "25:\t[0s / 1s],\t\ttrain_loss: 0.0032,\tval_loss: 0.0701\n",
      "26:\t[0s / 1s],\t\ttrain_loss: 0.0030,\tval_loss: 0.0713\n",
      "27:\t[0s / 1s],\t\ttrain_loss: 0.0027,\tval_loss: 0.0718\n",
      "28:\t[0s / 1s],\t\ttrain_loss: 0.0026,\tval_loss: 0.0742\n",
      "29:\t[0s / 1s],\t\ttrain_loss: 0.0022,\tval_loss: 0.0756\n"
     ]
    },
    {
     "data": {
      "image/png": "[encoded data removed]",
      "text/plain": [
       "<Figure size 432x288 with 1 Axes>"
      ]
     },
     "metadata": {
      "needs_background": "light"
     },
     "output_type": "display_data"
    }
   ],
   "source": [
    "cis_m2 = dh_m2.build_model(lr=0.001)"
   ]
  },
  {
   "cell_type": "code",
   "execution_count": 12,
   "id": "0aa92f83-8e87-4c78-b0ad-f15772a1287c",
   "metadata": {},
   "outputs": [
    {
     "data": {
      "text/plain": [
       "0.9062173235568413"
      ]
     },
     "execution_count": 12,
     "metadata": {},
     "output_type": "execute_result"
    }
   ],
   "source": [
    "cis_m2"
   ]
  },
  {
   "cell_type": "code",
   "execution_count": 13,
   "id": "6939c2ff-eb6d-44df-8d61-b96c55d6642c",
   "metadata": {},
   "outputs": [
    {
     "name": "stdout",
     "output_type": "stream",
     "text": [
      "Index(['IsFirstTime', 'PhoneVerified', 'RegistrationVerified', 'VideoVerified',\n",
      "       'DegreeVerified', 'CreditVerified', 'TaobaoVerified', 'Gender_0',\n",
      "       'Gender_1', 'BorrowerRating_A', 'BorrowerRating_B', 'BorrowerRating_C',\n",
      "       'BorrowerRating_D', 'BorrowerRating_E', 'BorrowerRating_F',\n",
      "       'LoanType_APPexpress', 'LoanType_E-commerce', 'LoanType_Normal',\n",
      "       'LoanType_Others', 'LoanPeriod_1', 'LoanPeriod_2', 'LoanPeriod_3',\n",
      "       'LoanPeriod_4', 'LoanPeriod_5', 'LoanPeriod_6', 'LoanPeriod_7',\n",
      "       'LoanPeriod_8', 'LoanPeriod_9', 'LoanPeriod_10', 'LoanPeriod_11',\n",
      "       'LoanPeriod_12', 'LoanPeriod_15', 'LoanPeriod_17', 'LoanPeriod_18',\n",
      "       'LoanPeriod_20', 'LoanPeriod_21', 'LoanPeriod_24'],\n",
      "      dtype='object')\n"
     ]
    }
   ],
   "source": [
    "dh_ppdai = deephit.DeepHit(dataset='ppdai',file_path=\"D:\\DeepCreditSurv\\DeepCreditSurv\\datasets\\ppdai\")"
   ]
  },
  {
   "cell_type": "code",
   "execution_count": 14,
   "id": "75297b02-30a6-44cb-97cf-fdaa014af2bd",
   "metadata": {},
   "outputs": [
    {
     "data": {
      "image/png": "[encoded data removed]",
      "text/plain": [
       "<Figure size 432x288 with 1 Axes>"
      ]
     },
     "metadata": {
      "needs_background": "light"
     },
     "output_type": "display_data"
    }
   ],
   "source": [
    "best_lr = dh_ppdai.find_lr()"
   ]
  },
  {
   "cell_type": "code",
   "execution_count": 15,
   "id": "a8ae34a4-9af3-4a99-9ebd-8415f54fc3e6",
   "metadata": {},
   "outputs": [
    {
     "data": {
      "text/plain": [
       "0.0001"
      ]
     },
     "execution_count": 15,
     "metadata": {},
     "output_type": "execute_result"
    }
   ],
   "source": [
    "best_lr"
   ]
  },
  {
   "cell_type": "code",
   "execution_count": 16,
   "id": "c59ae542-cef1-47ee-b2d1-1f8a229b4ee8",
   "metadata": {},
   "outputs": [
    {
     "name": "stdout",
     "output_type": "stream",
     "text": [
      "0:\t[1s / 1s],\t\ttrain_loss: 0.2407,\tval_loss: 0.2234\n",
      "1:\t[1s / 3s],\t\ttrain_loss: 0.2255,\tval_loss: 0.2117\n",
      "2:\t[1s / 4s],\t\ttrain_loss: 0.2155,\tval_loss: 0.2001\n",
      "3:\t[1s / 5s],\t\ttrain_loss: 0.2046,\tval_loss: 0.1877\n",
      "4:\t[1s / 7s],\t\ttrain_loss: 0.1942,\tval_loss: 0.1763\n",
      "5:\t[1s / 9s],\t\ttrain_loss: 0.1854,\tval_loss: 0.1674\n",
      "6:\t[1s / 10s],\t\ttrain_loss: 0.1784,\tval_loss: 0.1595\n",
      "7:\t[1s / 12s],\t\ttrain_loss: 0.1714,\tval_loss: 0.1524\n",
      "8:\t[1s / 13s],\t\ttrain_loss: 0.1659,\tval_loss: 0.1530\n",
      "9:\t[1s / 15s],\t\ttrain_loss: 0.1602,\tval_loss: 0.1415\n",
      "10:\t[1s / 16s],\t\ttrain_loss: 0.1565,\tval_loss: 0.1397\n",
      "11:\t[1s / 18s],\t\ttrain_loss: 0.1525,\tval_loss: 0.1339\n",
      "12:\t[1s / 19s],\t\ttrain_loss: 0.1490,\tval_loss: 0.1305\n",
      "13:\t[1s / 21s],\t\ttrain_loss: 0.1449,\tval_loss: 0.1322\n",
      "14:\t[1s / 22s],\t\ttrain_loss: 0.1424,\tval_loss: 0.1244\n",
      "15:\t[1s / 24s],\t\ttrain_loss: 0.1401,\tval_loss: 0.1222\n",
      "16:\t[1s / 25s],\t\ttrain_loss: 0.1368,\tval_loss: 0.1218\n",
      "17:\t[1s / 27s],\t\ttrain_loss: 0.1339,\tval_loss: 0.1160\n",
      "18:\t[1s / 28s],\t\ttrain_loss: 0.1321,\tval_loss: 0.1146\n",
      "19:\t[1s / 29s],\t\ttrain_loss: 0.1300,\tval_loss: 0.1152\n",
      "20:\t[1s / 31s],\t\ttrain_loss: 0.1280,\tval_loss: 0.1114\n",
      "21:\t[1s / 32s],\t\ttrain_loss: 0.1267,\tval_loss: 0.1186\n",
      "22:\t[1s / 34s],\t\ttrain_loss: 0.1250,\tval_loss: 0.1073\n",
      "23:\t[1s / 35s],\t\ttrain_loss: 0.1226,\tval_loss: 0.1065\n",
      "24:\t[1s / 37s],\t\ttrain_loss: 0.1207,\tval_loss: 0.1059\n",
      "25:\t[1s / 38s],\t\ttrain_loss: 0.1195,\tval_loss: 0.1019\n",
      "26:\t[1s / 40s],\t\ttrain_loss: 0.1172,\tval_loss: 0.1053\n",
      "27:\t[1s / 41s],\t\ttrain_loss: 0.1153,\tval_loss: 0.1003\n",
      "28:\t[1s / 43s],\t\ttrain_loss: 0.1141,\tval_loss: 0.0965\n",
      "29:\t[1s / 44s],\t\ttrain_loss: 0.1129,\tval_loss: 0.1008\n",
      "30:\t[1s / 45s],\t\ttrain_loss: 0.1108,\tval_loss: 0.0967\n",
      "31:\t[1s / 47s],\t\ttrain_loss: 0.1095,\tval_loss: 0.0996\n",
      "32:\t[1s / 48s],\t\ttrain_loss: 0.1073,\tval_loss: 0.0946\n",
      "33:\t[1s / 50s],\t\ttrain_loss: 0.1061,\tval_loss: 0.1030\n",
      "34:\t[1s / 51s],\t\ttrain_loss: 0.1056,\tval_loss: 0.0950\n",
      "35:\t[1s / 53s],\t\ttrain_loss: 0.1045,\tval_loss: 0.1011\n",
      "36:\t[1s / 54s],\t\ttrain_loss: 0.1032,\tval_loss: 0.0922\n",
      "37:\t[1s / 56s],\t\ttrain_loss: 0.1021,\tval_loss: 0.0901\n",
      "38:\t[1s / 57s],\t\ttrain_loss: 0.1012,\tval_loss: 0.0823\n",
      "39:\t[1s / 59s],\t\ttrain_loss: 0.0999,\tval_loss: 0.0821\n",
      "40:\t[1s / 1m:0s],\t\ttrain_loss: 0.0988,\tval_loss: 0.0851\n",
      "41:\t[1s / 1m:1s],\t\ttrain_loss: 0.0986,\tval_loss: 0.0915\n",
      "42:\t[1s / 1m:3s],\t\ttrain_loss: 0.0975,\tval_loss: 0.0928\n",
      "43:\t[1s / 1m:4s],\t\ttrain_loss: 0.0962,\tval_loss: 0.0929\n",
      "44:\t[1s / 1m:6s],\t\ttrain_loss: 0.0958,\tval_loss: 0.0768\n",
      "45:\t[1s / 1m:7s],\t\ttrain_loss: 0.0943,\tval_loss: 0.0748\n",
      "46:\t[1s / 1m:9s],\t\ttrain_loss: 0.0941,\tval_loss: 0.0750\n",
      "47:\t[1s / 1m:10s],\t\ttrain_loss: 0.0935,\tval_loss: 0.0742\n",
      "48:\t[1s / 1m:12s],\t\ttrain_loss: 0.0915,\tval_loss: 0.0746\n",
      "49:\t[1s / 1m:13s],\t\ttrain_loss: 0.0914,\tval_loss: 0.0761\n",
      "50:\t[1s / 1m:14s],\t\ttrain_loss: 0.0898,\tval_loss: 0.0707\n",
      "51:\t[1s / 1m:16s],\t\ttrain_loss: 0.0896,\tval_loss: 0.0863\n",
      "52:\t[1s / 1m:17s],\t\ttrain_loss: 0.0891,\tval_loss: 0.0700\n",
      "53:\t[1s / 1m:19s],\t\ttrain_loss: 0.0887,\tval_loss: 0.0694\n",
      "54:\t[1s / 1m:20s],\t\ttrain_loss: 0.0899,\tval_loss: 0.0711\n",
      "55:\t[1s / 1m:22s],\t\ttrain_loss: 0.0890,\tval_loss: 0.0760\n",
      "56:\t[1s / 1m:23s],\t\ttrain_loss: 0.0859,\tval_loss: 0.0678\n",
      "57:\t[1s / 1m:25s],\t\ttrain_loss: 0.0867,\tval_loss: 0.0676\n",
      "58:\t[1s / 1m:26s],\t\ttrain_loss: 0.0848,\tval_loss: 0.0758\n",
      "59:\t[1s / 1m:27s],\t\ttrain_loss: 0.0849,\tval_loss: 0.0654\n",
      "60:\t[1s / 1m:29s],\t\ttrain_loss: 0.0848,\tval_loss: 0.0662\n",
      "61:\t[1s / 1m:30s],\t\ttrain_loss: 0.0835,\tval_loss: 0.0731\n",
      "62:\t[1s / 1m:32s],\t\ttrain_loss: 0.0840,\tval_loss: 0.0636\n",
      "63:\t[1s / 1m:33s],\t\ttrain_loss: 0.0826,\tval_loss: 0.0631\n",
      "64:\t[1s / 1m:35s],\t\ttrain_loss: 0.0828,\tval_loss: 0.0705\n",
      "65:\t[1s / 1m:36s],\t\ttrain_loss: 0.0816,\tval_loss: 0.0619\n",
      "66:\t[1s / 1m:38s],\t\ttrain_loss: 0.0804,\tval_loss: 0.0654\n",
      "67:\t[1s / 1m:39s],\t\ttrain_loss: 0.0811,\tval_loss: 0.0614\n",
      "68:\t[1s / 1m:41s],\t\ttrain_loss: 0.0791,\tval_loss: 0.0600\n",
      "69:\t[1s / 1m:42s],\t\ttrain_loss: 0.0789,\tval_loss: 0.0614\n",
      "70:\t[1s / 1m:44s],\t\ttrain_loss: 0.0795,\tval_loss: 0.0582\n",
      "71:\t[1s / 1m:45s],\t\ttrain_loss: 0.0781,\tval_loss: 0.0729\n",
      "72:\t[1s / 1m:47s],\t\ttrain_loss: 0.0769,\tval_loss: 0.0575\n",
      "73:\t[1s / 1m:48s],\t\ttrain_loss: 0.0763,\tval_loss: 0.0569\n",
      "74:\t[1s / 1m:50s],\t\ttrain_loss: 0.0791,\tval_loss: 0.0754\n",
      "75:\t[1s / 1m:51s],\t\ttrain_loss: 0.0767,\tval_loss: 0.0569\n",
      "76:\t[1s / 1m:52s],\t\ttrain_loss: 0.0764,\tval_loss: 0.0559\n",
      "77:\t[1s / 1m:54s],\t\ttrain_loss: 0.0756,\tval_loss: 0.0554\n",
      "78:\t[1s / 1m:55s],\t\ttrain_loss: 0.0743,\tval_loss: 0.0715\n",
      "79:\t[1s / 1m:57s],\t\ttrain_loss: 0.0754,\tval_loss: 0.0588\n",
      "80:\t[1s / 1m:58s],\t\ttrain_loss: 0.0745,\tval_loss: 0.0539\n",
      "81:\t[1s / 2m:0s],\t\ttrain_loss: 0.0738,\tval_loss: 0.0589\n",
      "82:\t[1s / 2m:1s],\t\ttrain_loss: 0.0747,\tval_loss: 0.0720\n",
      "83:\t[1s / 2m:3s],\t\ttrain_loss: 0.0724,\tval_loss: 0.0538\n",
      "84:\t[1s / 2m:4s],\t\ttrain_loss: 0.0718,\tval_loss: 0.0567\n",
      "85:\t[1s / 2m:6s],\t\ttrain_loss: 0.0718,\tval_loss: 0.0690\n",
      "86:\t[1s / 2m:7s],\t\ttrain_loss: 0.0720,\tval_loss: 0.0562\n",
      "87:\t[1s / 2m:9s],\t\ttrain_loss: 0.0717,\tval_loss: 0.0520\n",
      "88:\t[1s / 2m:10s],\t\ttrain_loss: 0.0704,\tval_loss: 0.0506\n",
      "89:\t[1s / 2m:11s],\t\ttrain_loss: 0.0704,\tval_loss: 0.0544\n",
      "90:\t[1s / 2m:13s],\t\ttrain_loss: 0.0708,\tval_loss: 0.0527\n",
      "91:\t[1s / 2m:14s],\t\ttrain_loss: 0.0693,\tval_loss: 0.0509\n",
      "92:\t[1s / 2m:16s],\t\ttrain_loss: 0.0691,\tval_loss: 0.0491\n",
      "93:\t[1s / 2m:17s],\t\ttrain_loss: 0.0691,\tval_loss: 0.0686\n",
      "94:\t[1s / 2m:19s],\t\ttrain_loss: 0.0694,\tval_loss: 0.0536\n",
      "95:\t[1s / 2m:20s],\t\ttrain_loss: 0.0686,\tval_loss: 0.0587\n",
      "96:\t[1s / 2m:22s],\t\ttrain_loss: 0.0664,\tval_loss: 0.0579\n",
      "97:\t[1s / 2m:23s],\t\ttrain_loss: 0.0680,\tval_loss: 0.0486\n",
      "98:\t[1s / 2m:25s],\t\ttrain_loss: 0.0678,\tval_loss: 0.0542\n",
      "99:\t[1s / 2m:26s],\t\ttrain_loss: 0.0671,\tval_loss: 0.0487\n",
      "100:\t[1s / 2m:27s],\t\ttrain_loss: 0.0659,\tval_loss: 0.0492\n",
      "101:\t[1s / 2m:29s],\t\ttrain_loss: 0.0661,\tval_loss: 0.0477\n",
      "102:\t[1s / 2m:30s],\t\ttrain_loss: 0.0650,\tval_loss: 0.0482\n",
      "103:\t[1s / 2m:32s],\t\ttrain_loss: 0.0658,\tval_loss: 0.0484\n",
      "104:\t[1s / 2m:34s],\t\ttrain_loss: 0.0645,\tval_loss: 0.0471\n",
      "105:\t[1s / 2m:35s],\t\ttrain_loss: 0.0648,\tval_loss: 0.0466\n",
      "106:\t[1s / 2m:37s],\t\ttrain_loss: 0.0636,\tval_loss: 0.0440\n",
      "107:\t[1s / 2m:38s],\t\ttrain_loss: 0.0634,\tval_loss: 0.0552\n",
      "108:\t[1s / 2m:40s],\t\ttrain_loss: 0.0626,\tval_loss: 0.0465\n",
      "109:\t[1s / 2m:41s],\t\ttrain_loss: 0.0653,\tval_loss: 0.0434\n",
      "110:\t[1s / 2m:43s],\t\ttrain_loss: 0.0627,\tval_loss: 0.0466\n",
      "111:\t[1s / 2m:44s],\t\ttrain_loss: 0.0616,\tval_loss: 0.0451\n",
      "112:\t[1s / 2m:46s],\t\ttrain_loss: 0.0621,\tval_loss: 0.0428\n",
      "113:\t[1s / 2m:47s],\t\ttrain_loss: 0.0615,\tval_loss: 0.0441\n",
      "114:\t[1s / 2m:49s],\t\ttrain_loss: 0.0618,\tval_loss: 0.0467\n",
      "115:\t[1s / 2m:50s],\t\ttrain_loss: 0.0613,\tval_loss: 0.0421\n",
      "116:\t[1s / 2m:52s],\t\ttrain_loss: 0.0615,\tval_loss: 0.0408\n",
      "117:\t[1s / 2m:53s],\t\ttrain_loss: 0.0607,\tval_loss: 0.0415\n",
      "118:\t[1s / 2m:55s],\t\ttrain_loss: 0.0604,\tval_loss: 0.0450\n",
      "119:\t[1s / 2m:56s],\t\ttrain_loss: 0.0608,\tval_loss: 0.0421\n",
      "120:\t[1s / 2m:57s],\t\ttrain_loss: 0.0604,\tval_loss: 0.0569\n",
      "121:\t[1s / 2m:59s],\t\ttrain_loss: 0.0590,\tval_loss: 0.0420\n",
      "122:\t[1s / 3m:0s],\t\ttrain_loss: 0.0601,\tval_loss: 0.0422\n",
      "123:\t[1s / 3m:2s],\t\ttrain_loss: 0.0583,\tval_loss: 0.0455\n",
      "124:\t[1s / 3m:3s],\t\ttrain_loss: 0.0587,\tval_loss: 0.0402\n",
      "125:\t[1s / 3m:5s],\t\ttrain_loss: 0.0581,\tval_loss: 0.0429\n",
      "126:\t[1s / 3m:6s],\t\ttrain_loss: 0.0570,\tval_loss: 0.0408\n",
      "127:\t[1s / 3m:8s],\t\ttrain_loss: 0.0589,\tval_loss: 0.0388\n",
      "128:\t[1s / 3m:9s],\t\ttrain_loss: 0.0568,\tval_loss: 0.0506\n",
      "129:\t[1s / 3m:11s],\t\ttrain_loss: 0.0569,\tval_loss: 0.0397\n",
      "130:\t[1s / 3m:12s],\t\ttrain_loss: 0.0563,\tval_loss: 0.0392\n",
      "131:\t[1s / 3m:13s],\t\ttrain_loss: 0.0571,\tval_loss: 0.0383\n",
      "132:\t[1s / 3m:15s],\t\ttrain_loss: 0.0562,\tval_loss: 0.0395\n",
      "133:\t[1s / 3m:16s],\t\ttrain_loss: 0.0566,\tval_loss: 0.0424\n",
      "134:\t[1s / 3m:18s],\t\ttrain_loss: 0.0565,\tval_loss: 0.0389\n",
      "135:\t[1s / 3m:19s],\t\ttrain_loss: 0.0561,\tval_loss: 0.0374\n",
      "136:\t[1s / 3m:21s],\t\ttrain_loss: 0.0551,\tval_loss: 0.0393\n",
      "137:\t[1s / 3m:22s],\t\ttrain_loss: 0.0562,\tval_loss: 0.0382\n",
      "138:\t[1s / 3m:24s],\t\ttrain_loss: 0.0543,\tval_loss: 0.0401\n",
      "139:\t[1s / 3m:25s],\t\ttrain_loss: 0.0528,\tval_loss: 0.0373\n",
      "140:\t[1s / 3m:27s],\t\ttrain_loss: 0.0545,\tval_loss: 0.0372\n",
      "141:\t[1s / 3m:28s],\t\ttrain_loss: 0.0531,\tval_loss: 0.0349\n",
      "142:\t[1s / 3m:30s],\t\ttrain_loss: 0.0531,\tval_loss: 0.0377\n",
      "143:\t[1s / 3m:31s],\t\ttrain_loss: 0.0526,\tval_loss: 0.0363\n",
      "144:\t[1s / 3m:33s],\t\ttrain_loss: 0.0534,\tval_loss: 0.0380\n",
      "145:\t[1s / 3m:34s],\t\ttrain_loss: 0.0533,\tval_loss: 0.0335\n",
      "146:\t[1s / 3m:35s],\t\ttrain_loss: 0.0532,\tval_loss: 0.0395\n",
      "147:\t[1s / 3m:37s],\t\ttrain_loss: 0.0519,\tval_loss: 0.0423\n",
      "148:\t[1s / 3m:38s],\t\ttrain_loss: 0.0513,\tval_loss: 0.0338\n",
      "149:\t[1s / 3m:40s],\t\ttrain_loss: 0.0515,\tval_loss: 0.0368\n",
      "150:\t[1s / 3m:41s],\t\ttrain_loss: 0.0522,\tval_loss: 0.0314\n",
      "151:\t[1s / 3m:43s],\t\ttrain_loss: 0.0519,\tval_loss: 0.0332\n",
      "152:\t[1s / 3m:44s],\t\ttrain_loss: 0.0519,\tval_loss: 0.0400\n",
      "153:\t[1s / 3m:45s],\t\ttrain_loss: 0.0509,\tval_loss: 0.0357\n",
      "154:\t[1s / 3m:47s],\t\ttrain_loss: 0.0494,\tval_loss: 0.0371\n",
      "155:\t[1s / 3m:48s],\t\ttrain_loss: 0.0501,\tval_loss: 0.0368\n",
      "156:\t[1s / 3m:50s],\t\ttrain_loss: 0.0502,\tval_loss: 0.0327\n",
      "157:\t[1s / 3m:51s],\t\ttrain_loss: 0.0502,\tval_loss: 0.0345\n",
      "158:\t[1s / 3m:53s],\t\ttrain_loss: 0.0495,\tval_loss: 0.0405\n",
      "159:\t[1s / 3m:54s],\t\ttrain_loss: 0.0485,\tval_loss: 0.0317\n",
      "160:\t[1s / 3m:56s],\t\ttrain_loss: 0.0493,\tval_loss: 0.0304\n",
      "161:\t[1s / 3m:57s],\t\ttrain_loss: 0.0490,\tval_loss: 0.0310\n",
      "162:\t[1s / 3m:59s],\t\ttrain_loss: 0.0498,\tval_loss: 0.0366\n",
      "163:\t[1s / 4m:0s],\t\ttrain_loss: 0.0485,\tval_loss: 0.0363\n",
      "164:\t[1s / 4m:2s],\t\ttrain_loss: 0.0474,\tval_loss: 0.0359\n",
      "165:\t[1s / 4m:3s],\t\ttrain_loss: 0.0477,\tval_loss: 0.0315\n",
      "166:\t[1s / 4m:4s],\t\ttrain_loss: 0.0482,\tval_loss: 0.0349\n",
      "167:\t[1s / 4m:6s],\t\ttrain_loss: 0.0478,\tval_loss: 0.0301\n",
      "168:\t[1s / 4m:8s],\t\ttrain_loss: 0.0479,\tval_loss: 0.0337\n",
      "169:\t[1s / 4m:9s],\t\ttrain_loss: 0.0485,\tval_loss: 0.0386\n",
      "170:\t[1s / 4m:11s],\t\ttrain_loss: 0.0478,\tval_loss: 0.0326\n",
      "171:\t[1s / 4m:12s],\t\ttrain_loss: 0.0459,\tval_loss: 0.0327\n",
      "172:\t[1s / 4m:14s],\t\ttrain_loss: 0.0469,\tval_loss: 0.0307\n",
      "173:\t[1s / 4m:15s],\t\ttrain_loss: 0.0470,\tval_loss: 0.0331\n",
      "174:\t[1s / 4m:17s],\t\ttrain_loss: 0.0467,\tval_loss: 0.0360\n",
      "175:\t[1s / 4m:18s],\t\ttrain_loss: 0.0453,\tval_loss: 0.0341\n",
      "176:\t[1s / 4m:20s],\t\ttrain_loss: 0.0470,\tval_loss: 0.0307\n",
      "177:\t[1s / 4m:22s],\t\ttrain_loss: 0.0459,\tval_loss: 0.0303\n"
     ]
    },
    {
     "data": {
      "image/png": "[encoded data removed]",
      "text/plain": [
       "<Figure size 432x288 with 1 Axes>"
      ]
     },
     "metadata": {
      "needs_background": "light"
     },
     "output_type": "display_data"
    }
   ],
   "source": [
    "cis_ppdai = dh_ppdai.build_model(lr=0.0001)"
   ]
  },
  {
   "cell_type": "code",
   "execution_count": 17,
   "id": "72bc4683-0fd1-4f78-ac23-f06729ada2af",
   "metadata": {},
   "outputs": [
    {
     "data": {
      "text/plain": [
       "0.8042929264094183"
      ]
     },
     "execution_count": 17,
     "metadata": {},
     "output_type": "execute_result"
    }
   ],
   "source": [
    "cis_ppdai"
   ]
  },
  {
   "cell_type": "code",
   "execution_count": 18,
   "id": "ecb6bf74-d749-49ba-9ecd-21364438496c",
   "metadata": {},
   "outputs": [
    {
     "name": "stdout",
     "output_type": "stream",
     "text": [
      "Index(['id', 'member_id', 'loan_amnt', 'funded_amnt', 'funded_amnt_inv',\n",
      "       'term', 'int_rate', 'installment', 'grade', 'sub_grade', 'emp_title',\n",
      "       'emp_length', 'home_ownership', 'annual_inc', 'verification_status',\n",
      "       'issue_d', 'pymnt_plan', 'desc', 'purpose', 'title', 'zip_code',\n",
      "       'addr_state', 'dti', 'delinq_2yrs', 'earliest_cr_line',\n",
      "       'inq_last_6mths', 'mths_since_last_delinq', 'mths_since_last_record',\n",
      "       'open_acc', 'pub_rec', 'revol_bal', 'revol_util', 'total_acc',\n",
      "       'initial_list_status', 'out_prncp', 'out_prncp_inv', 'total_pymnt',\n",
      "       'total_pymnt_inv', 'total_rec_prncp', 'total_rec_int',\n",
      "       'total_rec_late_fee', 'recoveries', 'collection_recovery_fee',\n",
      "       'last_pymnt_d', 'last_pymnt_amnt', 'next_pymnt_d', 'last_credit_pull_d',\n",
      "       'collections_12_mths_ex_med', 'mths_since_last_major_derog',\n",
      "       'policy_code', 'application_type', 'annual_inc_joint', 'dti_joint',\n",
      "       'verification_status_joint', 'acc_now_delinq', 'tot_coll_amt',\n",
      "       'tot_cur_bal', 'open_acc_6m', 'open_il_6m', 'open_il_12m',\n",
      "       'open_il_24m', 'mths_since_rcnt_il', 'total_bal_il', 'il_util',\n",
      "       'open_rv_12m', 'open_rv_24m', 'max_bal_bc', 'all_util',\n",
      "       'total_rev_hi_lim', 'inq_fi', 'total_cu_tl', 'inq_last_12m',\n",
      "       'default_ind'],\n",
      "      dtype='object')\n",
      "Columns with less than 90% of the data included:\n",
      "['all_util', 'annual_inc_joint', 'desc', 'dti_joint', 'il_util', 'inq_fi', 'inq_last_12m', 'max_bal_bc', 'mths_since_last_delinq', 'mths_since_last_major_derog', 'mths_since_last_record', 'mths_since_rcnt_il', 'next_pymnt_d', 'open_acc_6m', 'open_il_12m', 'open_il_24m', 'open_il_6m', 'open_rv_12m', 'open_rv_24m', 'total_bal_il', 'total_cu_tl', 'verification_status_joint']\n",
      "Index(['id', 'member_id', 'loan_amnt', 'funded_amnt', 'funded_amnt_inv',\n",
      "       'term', 'int_rate', 'installment', 'grade', 'sub_grade', 'emp_title',\n",
      "       'emp_length', 'home_ownership', 'annual_inc', 'verification_status',\n",
      "       'issue_d', 'pymnt_plan', 'purpose', 'title', 'zip_code', 'addr_state',\n",
      "       'dti', 'delinq_2yrs', 'earliest_cr_line', 'inq_last_6mths', 'open_acc',\n",
      "       'pub_rec', 'revol_bal', 'revol_util', 'total_acc',\n",
      "       'initial_list_status', 'out_prncp', 'out_prncp_inv', 'total_pymnt',\n",
      "       'total_pymnt_inv', 'total_rec_prncp', 'total_rec_int',\n",
      "       'total_rec_late_fee', 'recoveries', 'collection_recovery_fee',\n",
      "       'last_pymnt_d', 'last_pymnt_amnt', 'last_credit_pull_d',\n",
      "       'collections_12_mths_ex_med', 'policy_code', 'application_type',\n",
      "       'acc_now_delinq', 'tot_coll_amt', 'tot_cur_bal', 'total_rev_hi_lim',\n",
      "       'default_ind'],\n",
      "      dtype='object')\n",
      "Index(['pymnt_plan', 'initial_list_status', 'application_type', 'grade_A',\n",
      "       'grade_B', 'grade_C', 'grade_D', 'grade_E', 'grade_F', 'grade_G',\n",
      "       'emp_length_1 year', 'emp_length_10+ years', 'emp_length_2 years',\n",
      "       'emp_length_3 years', 'emp_length_4 years', 'emp_length_5 years',\n",
      "       'emp_length_6 years', 'emp_length_7 years', 'emp_length_8 years',\n",
      "       'emp_length_9 years', 'emp_length_< 1 year', 'home_ownership_MORTGAGE',\n",
      "       'home_ownership_NONE', 'home_ownership_OTHER', 'home_ownership_OWN',\n",
      "       'home_ownership_RENT', 'sub_grade_A1', 'sub_grade_A2', 'sub_grade_A3',\n",
      "       'sub_grade_A4', 'sub_grade_A5', 'sub_grade_B1', 'sub_grade_B2',\n",
      "       'sub_grade_B3', 'sub_grade_B4', 'sub_grade_B5', 'sub_grade_C1',\n",
      "       'sub_grade_C2', 'sub_grade_C3', 'sub_grade_C4', 'sub_grade_C5',\n",
      "       'sub_grade_D1', 'sub_grade_D2', 'sub_grade_D3', 'sub_grade_D4',\n",
      "       'sub_grade_D5', 'sub_grade_E1', 'sub_grade_E2', 'sub_grade_E3',\n",
      "       'sub_grade_E4', 'sub_grade_E5', 'sub_grade_F1', 'sub_grade_F2',\n",
      "       'sub_grade_F3', 'sub_grade_F4', 'sub_grade_F5', 'sub_grade_G1',\n",
      "       'sub_grade_G2', 'sub_grade_G3', 'sub_grade_G4', 'sub_grade_G5',\n",
      "       'purpose_car', 'purpose_credit_card', 'purpose_debt_consolidation',\n",
      "       'purpose_home_improvement', 'purpose_house', 'purpose_major_purchase',\n",
      "       'purpose_medical', 'purpose_moving', 'purpose_other',\n",
      "       'purpose_renewable_energy', 'purpose_small_business',\n",
      "       'purpose_vacation', 'purpose_wedding',\n",
      "       'verification_status_Not Verified',\n",
      "       'verification_status_Source Verified', 'verification_status_Verified',\n",
      "       'term_ 36 months', 'term_ 60 months'],\n",
      "      dtype='object')\n"
     ]
    }
   ],
   "source": [
    "dh_lc = deephit.DeepHit(dataset='LC',file_path=\"D:\\DeepCreditSurv\\DeepCreditSurv\\datasets\\LendingClub\\XYZCorp_LendingData.txt\")"
   ]
  },
  {
   "cell_type": "code",
   "execution_count": 19,
   "id": "7d7d5afb-4d81-4b1d-959a-416323db0bca",
   "metadata": {},
   "outputs": [
    {
     "name": "stdout",
     "output_type": "stream",
     "text": [
      "0.0001\n"
     ]
    },
    {
     "data": {
      "image/png": "[encoded data removed]",
      "text/plain": [
       "<Figure size 432x288 with 1 Axes>"
      ]
     },
     "metadata": {
      "needs_background": "light"
     },
     "output_type": "display_data"
    }
   ],
   "source": [
    "best_lr = dh_lc.find_lr()\n",
    "print(best_lr)"
   ]
  },
  {
   "cell_type": "code",
   "execution_count": 20,
   "id": "23d84fca-b076-4d6e-b430-22847e20b26d",
   "metadata": {},
   "outputs": [
    {
     "name": "stdout",
     "output_type": "stream",
     "text": [
      "0:\t[2s / 2s],\t\ttrain_loss: 0.2798,\tval_loss: 0.2058\n",
      "1:\t[2s / 4s],\t\ttrain_loss: 0.1899,\tval_loss: 0.1294\n",
      "2:\t[2s / 6s],\t\ttrain_loss: 0.1371,\tval_loss: 0.1082\n",
      "3:\t[2s / 8s],\t\ttrain_loss: 0.1175,\tval_loss: 0.1001\n",
      "4:\t[2s / 10s],\t\ttrain_loss: 0.1070,\tval_loss: 0.0938\n",
      "5:\t[2s / 12s],\t\ttrain_loss: 0.1012,\tval_loss: 0.0903\n",
      "6:\t[2s / 14s],\t\ttrain_loss: 0.0974,\tval_loss: 0.0858\n",
      "7:\t[2s / 17s],\t\ttrain_loss: 0.0939,\tval_loss: 0.0839\n",
      "8:\t[2s / 19s],\t\ttrain_loss: 0.0917,\tval_loss: 0.0811\n",
      "9:\t[2s / 21s],\t\ttrain_loss: 0.0890,\tval_loss: 0.0789\n",
      "10:\t[2s / 23s],\t\ttrain_loss: 0.0880,\tval_loss: 0.0775\n",
      "11:\t[2s / 25s],\t\ttrain_loss: 0.0867,\tval_loss: 0.0768\n",
      "12:\t[2s / 27s],\t\ttrain_loss: 0.0851,\tval_loss: 0.0749\n",
      "13:\t[2s / 29s],\t\ttrain_loss: 0.0832,\tval_loss: 0.0743\n",
      "14:\t[2s / 31s],\t\ttrain_loss: 0.0817,\tval_loss: 0.0729\n",
      "15:\t[2s / 33s],\t\ttrain_loss: 0.0803,\tval_loss: 0.0719\n",
      "16:\t[2s / 35s],\t\ttrain_loss: 0.0792,\tval_loss: 0.0710\n",
      "17:\t[2s / 37s],\t\ttrain_loss: 0.0792,\tval_loss: 0.0696\n",
      "18:\t[2s / 40s],\t\ttrain_loss: 0.0790,\tval_loss: 0.0695\n",
      "19:\t[2s / 42s],\t\ttrain_loss: 0.0767,\tval_loss: 0.0684\n",
      "20:\t[2s / 44s],\t\ttrain_loss: 0.0761,\tval_loss: 0.0677\n",
      "21:\t[2s / 46s],\t\ttrain_loss: 0.0761,\tval_loss: 0.0676\n",
      "22:\t[2s / 49s],\t\ttrain_loss: 0.0744,\tval_loss: 0.0665\n",
      "23:\t[2s / 51s],\t\ttrain_loss: 0.0734,\tval_loss: 0.0656\n",
      "24:\t[2s / 53s],\t\ttrain_loss: 0.0733,\tval_loss: 0.0656\n",
      "25:\t[2s / 55s],\t\ttrain_loss: 0.0725,\tval_loss: 0.0658\n",
      "26:\t[2s / 57s],\t\ttrain_loss: 0.0728,\tval_loss: 0.0649\n",
      "27:\t[2s / 59s],\t\ttrain_loss: 0.0727,\tval_loss: 0.0642\n",
      "28:\t[2s / 1m:1s],\t\ttrain_loss: 0.0709,\tval_loss: 0.0640\n",
      "29:\t[2s / 1m:3s],\t\ttrain_loss: 0.0709,\tval_loss: 0.0632\n",
      "30:\t[2s / 1m:5s],\t\ttrain_loss: 0.0703,\tval_loss: 0.0628\n",
      "31:\t[2s / 1m:8s],\t\ttrain_loss: 0.0695,\tval_loss: 0.0631\n",
      "32:\t[2s / 1m:10s],\t\ttrain_loss: 0.0688,\tval_loss: 0.0624\n",
      "33:\t[2s / 1m:12s],\t\ttrain_loss: 0.0701,\tval_loss: 0.0626\n",
      "34:\t[2s / 1m:14s],\t\ttrain_loss: 0.0698,\tval_loss: 0.0620\n",
      "35:\t[2s / 1m:16s],\t\ttrain_loss: 0.0691,\tval_loss: 0.0626\n",
      "36:\t[2s / 1m:18s],\t\ttrain_loss: 0.0688,\tval_loss: 0.0615\n",
      "37:\t[2s / 1m:20s],\t\ttrain_loss: 0.0675,\tval_loss: 0.0607\n",
      "38:\t[2s / 1m:22s],\t\ttrain_loss: 0.0661,\tval_loss: 0.0596\n",
      "39:\t[2s / 1m:25s],\t\ttrain_loss: 0.0673,\tval_loss: 0.0601\n",
      "40:\t[2s / 1m:27s],\t\ttrain_loss: 0.0666,\tval_loss: 0.0599\n",
      "41:\t[2s / 1m:29s],\t\ttrain_loss: 0.0663,\tval_loss: 0.0597\n",
      "42:\t[2s / 1m:31s],\t\ttrain_loss: 0.0661,\tval_loss: 0.0598\n",
      "43:\t[2s / 1m:33s],\t\ttrain_loss: 0.0661,\tval_loss: 0.0595\n",
      "44:\t[2s / 1m:35s],\t\ttrain_loss: 0.0647,\tval_loss: 0.0585\n",
      "45:\t[2s / 1m:37s],\t\ttrain_loss: 0.0646,\tval_loss: 0.0585\n",
      "46:\t[2s / 1m:39s],\t\ttrain_loss: 0.0652,\tval_loss: 0.0588\n",
      "47:\t[2s / 1m:41s],\t\ttrain_loss: 0.0643,\tval_loss: 0.0582\n",
      "48:\t[2s / 1m:43s],\t\ttrain_loss: 0.0646,\tval_loss: 0.0579\n",
      "49:\t[2s / 1m:45s],\t\ttrain_loss: 0.0646,\tval_loss: 0.0576\n",
      "50:\t[2s / 1m:47s],\t\ttrain_loss: 0.0633,\tval_loss: 0.0581\n",
      "51:\t[2s / 1m:49s],\t\ttrain_loss: 0.0638,\tval_loss: 0.0573\n",
      "52:\t[2s / 1m:51s],\t\ttrain_loss: 0.0636,\tval_loss: 0.0575\n",
      "53:\t[2s / 1m:53s],\t\ttrain_loss: 0.0629,\tval_loss: 0.0571\n",
      "54:\t[2s / 1m:56s],\t\ttrain_loss: 0.0633,\tval_loss: 0.0567\n",
      "55:\t[2s / 1m:58s],\t\ttrain_loss: 0.0628,\tval_loss: 0.0576\n",
      "56:\t[2s / 2m:0s],\t\ttrain_loss: 0.0628,\tval_loss: 0.0570\n",
      "57:\t[2s / 2m:2s],\t\ttrain_loss: 0.0632,\tval_loss: 0.0567\n",
      "58:\t[2s / 2m:4s],\t\ttrain_loss: 0.0623,\tval_loss: 0.0573\n",
      "59:\t[2s / 2m:6s],\t\ttrain_loss: 0.0621,\tval_loss: 0.0567\n",
      "60:\t[2s / 2m:8s],\t\ttrain_loss: 0.0617,\tval_loss: 0.0566\n",
      "61:\t[2s / 2m:10s],\t\ttrain_loss: 0.0623,\tval_loss: 0.0563\n",
      "62:\t[2s / 2m:12s],\t\ttrain_loss: 0.0612,\tval_loss: 0.0557\n",
      "63:\t[2s / 2m:14s],\t\ttrain_loss: 0.0615,\tval_loss: 0.0556\n",
      "64:\t[2s / 2m:16s],\t\ttrain_loss: 0.0605,\tval_loss: 0.0552\n",
      "65:\t[2s / 2m:18s],\t\ttrain_loss: 0.0621,\tval_loss: 0.0553\n",
      "66:\t[2s / 2m:20s],\t\ttrain_loss: 0.0615,\tval_loss: 0.0556\n",
      "67:\t[2s / 2m:22s],\t\ttrain_loss: 0.0606,\tval_loss: 0.0550\n",
      "68:\t[2s / 2m:24s],\t\ttrain_loss: 0.0606,\tval_loss: 0.0551\n",
      "69:\t[2s / 2m:27s],\t\ttrain_loss: 0.0614,\tval_loss: 0.0552\n",
      "70:\t[2s / 2m:29s],\t\ttrain_loss: 0.0603,\tval_loss: 0.0544\n",
      "71:\t[2s / 2m:31s],\t\ttrain_loss: 0.0600,\tval_loss: 0.0543\n",
      "72:\t[2s / 2m:33s],\t\ttrain_loss: 0.0597,\tval_loss: 0.0549\n",
      "73:\t[2s / 2m:35s],\t\ttrain_loss: 0.0602,\tval_loss: 0.0543\n",
      "74:\t[2s / 2m:37s],\t\ttrain_loss: 0.0589,\tval_loss: 0.0544\n",
      "75:\t[2s / 2m:39s],\t\ttrain_loss: 0.0589,\tval_loss: 0.0544\n",
      "76:\t[2s / 2m:41s],\t\ttrain_loss: 0.0595,\tval_loss: 0.0544\n",
      "77:\t[2s / 2m:43s],\t\ttrain_loss: 0.0588,\tval_loss: 0.0542\n",
      "78:\t[2s / 2m:45s],\t\ttrain_loss: 0.0581,\tval_loss: 0.0534\n",
      "79:\t[2s / 2m:47s],\t\ttrain_loss: 0.0582,\tval_loss: 0.0542\n",
      "80:\t[2s / 2m:49s],\t\ttrain_loss: 0.0584,\tval_loss: 0.0538\n",
      "81:\t[2s / 2m:51s],\t\ttrain_loss: 0.0583,\tval_loss: 0.0532\n",
      "82:\t[2s / 2m:54s],\t\ttrain_loss: 0.0580,\tval_loss: 0.0531\n",
      "83:\t[2s / 2m:56s],\t\ttrain_loss: 0.0570,\tval_loss: 0.0530\n",
      "84:\t[2s / 2m:58s],\t\ttrain_loss: 0.0579,\tval_loss: 0.0532\n",
      "85:\t[2s / 3m:1s],\t\ttrain_loss: 0.0580,\tval_loss: 0.0532\n",
      "86:\t[2s / 3m:3s],\t\ttrain_loss: 0.0582,\tval_loss: 0.0534\n",
      "87:\t[2s / 3m:5s],\t\ttrain_loss: 0.0574,\tval_loss: 0.0528\n",
      "88:\t[2s / 3m:7s],\t\ttrain_loss: 0.0564,\tval_loss: 0.0529\n",
      "89:\t[2s / 3m:9s],\t\ttrain_loss: 0.0558,\tval_loss: 0.0523\n",
      "90:\t[2s / 3m:12s],\t\ttrain_loss: 0.0566,\tval_loss: 0.0521\n",
      "91:\t[2s / 3m:14s],\t\ttrain_loss: 0.0564,\tval_loss: 0.0530\n",
      "92:\t[2s / 3m:16s],\t\ttrain_loss: 0.0564,\tval_loss: 0.0523\n",
      "93:\t[2s / 3m:18s],\t\ttrain_loss: 0.0557,\tval_loss: 0.0522\n",
      "94:\t[2s / 3m:20s],\t\ttrain_loss: 0.0568,\tval_loss: 0.0521\n",
      "95:\t[2s / 3m:22s],\t\ttrain_loss: 0.0572,\tval_loss: 0.0519\n",
      "96:\t[2s / 3m:24s],\t\ttrain_loss: 0.0558,\tval_loss: 0.0518\n",
      "97:\t[2s / 3m:26s],\t\ttrain_loss: 0.0569,\tval_loss: 0.0519\n",
      "98:\t[2s / 3m:28s],\t\ttrain_loss: 0.0563,\tval_loss: 0.0526\n",
      "99:\t[2s / 3m:30s],\t\ttrain_loss: 0.0557,\tval_loss: 0.0519\n",
      "100:\t[2s / 3m:32s],\t\ttrain_loss: 0.0556,\tval_loss: 0.0526\n",
      "101:\t[2s / 3m:34s],\t\ttrain_loss: 0.0565,\tval_loss: 0.0518\n",
      "102:\t[2s / 3m:36s],\t\ttrain_loss: 0.0549,\tval_loss: 0.0516\n",
      "103:\t[2s / 3m:38s],\t\ttrain_loss: 0.0550,\tval_loss: 0.0516\n",
      "104:\t[2s / 3m:40s],\t\ttrain_loss: 0.0563,\tval_loss: 0.0513\n",
      "105:\t[2s / 3m:42s],\t\ttrain_loss: 0.0552,\tval_loss: 0.0517\n",
      "106:\t[2s / 3m:45s],\t\ttrain_loss: 0.0542,\tval_loss: 0.0510\n",
      "107:\t[2s / 3m:47s],\t\ttrain_loss: 0.0543,\tval_loss: 0.0521\n",
      "108:\t[2s / 3m:49s],\t\ttrain_loss: 0.0545,\tval_loss: 0.0516\n",
      "109:\t[2s / 3m:51s],\t\ttrain_loss: 0.0547,\tval_loss: 0.0512\n",
      "110:\t[2s / 3m:53s],\t\ttrain_loss: 0.0553,\tval_loss: 0.0508\n",
      "111:\t[2s / 3m:55s],\t\ttrain_loss: 0.0552,\tval_loss: 0.0514\n",
      "112:\t[2s / 3m:57s],\t\ttrain_loss: 0.0533,\tval_loss: 0.0507\n",
      "113:\t[2s / 3m:59s],\t\ttrain_loss: 0.0536,\tval_loss: 0.0499\n",
      "114:\t[2s / 4m:1s],\t\ttrain_loss: 0.0550,\tval_loss: 0.0506\n",
      "115:\t[2s / 4m:3s],\t\ttrain_loss: 0.0535,\tval_loss: 0.0513\n",
      "116:\t[2s / 4m:5s],\t\ttrain_loss: 0.0532,\tval_loss: 0.0505\n",
      "117:\t[2s / 4m:7s],\t\ttrain_loss: 0.0530,\tval_loss: 0.0512\n",
      "118:\t[2s / 4m:9s],\t\ttrain_loss: 0.0545,\tval_loss: 0.0502\n",
      "119:\t[2s / 4m:11s],\t\ttrain_loss: 0.0539,\tval_loss: 0.0502\n",
      "120:\t[2s / 4m:14s],\t\ttrain_loss: 0.0532,\tval_loss: 0.0506\n",
      "121:\t[2s / 4m:16s],\t\ttrain_loss: 0.0525,\tval_loss: 0.0502\n",
      "122:\t[2s / 4m:18s],\t\ttrain_loss: 0.0532,\tval_loss: 0.0505\n",
      "123:\t[2s / 4m:20s],\t\ttrain_loss: 0.0530,\tval_loss: 0.0505\n"
     ]
    },
    {
     "data": {
      "image/png": "[encoded data removed]",
      "text/plain": [
       "<Figure size 432x288 with 1 Axes>"
      ]
     },
     "metadata": {
      "needs_background": "light"
     },
     "output_type": "display_data"
    }
   ],
   "source": [
    "cis_lc = dh_lc.build_model(lr=0.0001)"
   ]
  },
  {
   "cell_type": "code",
   "execution_count": 21,
   "id": "327e00ff-b363-4d84-9fd1-5b3074db6782",
   "metadata": {},
   "outputs": [
    {
     "data": {
      "text/plain": [
       "0.9967576742362825"
      ]
     },
     "execution_count": 21,
     "metadata": {},
     "output_type": "execute_result"
    }
   ],
   "source": [
    "cis_lc"
   ]
  },
  {
   "cell_type": "code",
   "execution_count": null,
   "id": "a6cad242-02f6-4c49-a5ff-056093ca4093",
   "metadata": {},
   "outputs": [],
   "source": []
  }
 ],
 "metadata": {
  "kernelspec": {
   "display_name": "Python 3",
   "language": "python",
   "name": "python3"
  },
  "language_info": {
   "codemirror_mode": {
    "name": "ipython",
    "version": 3
   },
   "file_extension": ".py",
   "mimetype": "text/x-python",
   "name": "python",
   "nbconvert_exporter": "python",
   "pygments_lexer": "ipython3",
   "version": "3.8.10"
  }
 },
 "nbformat": 4,
 "nbformat_minor": 5
}
